{
 "cells": [
  {
   "cell_type": "markdown",
   "id": "cdbe285d",
   "metadata": {},
   "source": [
    "https://www.statsmodels.org/dev/generated/statsmodels.tsa.statespace.dynamic_factor_mq.DynamicFactorMQ.html\n",
    "<br>https://medium.com/@philippetousignant/dynamic-factor-models-in-python-58d2d5252640\n",
    "<br>https://www.ecb.europa.eu/pub/pdf/scpwps/ecbwp1564.pdf"
   ]
  },
  {
   "cell_type": "code",
   "execution_count": null,
   "id": "9b8af0e0",
   "metadata": {},
   "outputs": [],
   "source": [
    "import datetime\n",
    "import json\n",
    "import pandas as pd\n",
    "import numpy as np\n",
    "import statsmodels.tsa.api as sm\n",
    "import matplotlib.pyplot as plt\n",
    "from sklearn.metrics import mean_squared_error as mse\n",
    "import warnings\n",
    "from statsmodels.tsa.arima.model import ARIMA\n",
    "from statsmodels.tsa.stattools import adfuller"
   ]
  },
  {
   "cell_type": "markdown",
   "id": "1be00d76",
   "metadata": {},
   "source": [
    "Static data"
   ]
  },
  {
   "cell_type": "code",
   "execution_count": null,
   "id": "6d11a5ca",
   "metadata": {},
   "outputs": [],
   "source": [
    "files = {'sources':'Data Sources.csv', 'data':'Data Cleaned.json'}"
   ]
  },
  {
   "cell_type": "code",
   "execution_count": null,
   "id": "c910c5e4",
   "metadata": {},
   "outputs": [],
   "source": [
    "train_ratio = 0.8\n",
    "max_factors, max_lags = 5, 2\n",
    "max_ar = 9\n",
    "forecast_steps = 1"
   ]
  },
  {
   "cell_type": "markdown",
   "id": "f0fd9bc6",
   "metadata": {},
   "source": [
    "Classes and functions"
   ]
  },
  {
   "cell_type": "code",
   "execution_count": null,
   "id": "b16f20bb",
   "metadata": {
    "scrolled": false
   },
   "outputs": [],
   "source": [
    "class Variables:\n",
    "    def __init__(self, df):\n",
    "        self.dep = df[df['Dependent']=='Y']['Name'].tolist()[0]\n",
    "\n",
    "        self.indep = df[df['Dependent']!='Y']['Name'].tolist()\n",
    "        self.indep_exclude = ['business expectation']\n",
    "        self.indep = [i for i in self.indep if all(j not in i.lower() for j in self.indep_exclude)]\n",
    "\n",
    "        self.freq = dict(zip(df['Name'],df['Frequency']))\n",
    "\n",
    "        self.non_stat = []"
   ]
  },
  {
   "cell_type": "code",
   "execution_count": null,
   "id": "901a0b97",
   "metadata": {},
   "outputs": [],
   "source": [
    "def run_df(data, no_factors, f_lags):\n",
    "    try:\n",
    "        model = sm.DynamicFactorMQ(endog=data,\n",
    "                                   k_endog_monthly=len([k for k,v in variables.freq.items() if v=='M']),\n",
    "                                   factors=no_factors,\n",
    "                                   factor_orders=f_lags,\n",
    "                                   freq='M',\n",
    "                                   idiosyncratic_ar1=True)\n",
    "        results = model.fit(maxiter=100, disp=False)\n",
    "        return(results)\n",
    "\n",
    "    except UserWarning:\n",
    "        print('-model did not converge-', end=' ')\n",
    "        return(None)"
   ]
  },
  {
   "cell_type": "code",
   "execution_count": null,
   "id": "e3e6ee8d",
   "metadata": {},
   "outputs": [],
   "source": [
    "def find_min_ic(models_dict):\n",
    "    # info criterion type: (model specifications, info criterion value)\n",
    "    ic_min = {ic:(None,float('inf')) for ic in ics}\n",
    "\n",
    "    # k: model specifications, v: model object\n",
    "    for k,v in models_dict.items():\n",
    "        for ic,val in ic_min.items():\n",
    "            if v[ic]<ic_min[ic][1]:\n",
    "                ic_min[ic] = (k,v[ic])\n",
    "    return(ic_min)"
   ]
  },
  {
   "cell_type": "code",
   "execution_count": null,
   "id": "966152f6",
   "metadata": {
    "scrolled": true
   },
   "outputs": [],
   "source": [
    "def compare(actual_df, predict_df):\n",
    "    compare_df = pd.DataFrame(actual_df[variables.dep].dropna().values,\n",
    "                              index=actual_df[variables.dep].dropna().index,\n",
    "                              columns=['Actual'])\n",
    "\n",
    "    compare_df = compare_df.merge(predict_df[[variables.dep]].rename(columns={variables.dep:'Predicted'}),\n",
    "                                  how='left', left_index=True, right_index=True)\n",
    "    return(compare_df)"
   ]
  },
  {
   "cell_type": "code",
   "execution_count": null,
   "id": "452ae530",
   "metadata": {},
   "outputs": [],
   "source": [
    "def split_train_test(data, train_prop):\n",
    "    train_no_rows = round(train_prop * len(data))\n",
    "    train_df = data.iloc[:train_no_rows]\n",
    "    test_df = data.iloc[train_no_rows:]\n",
    "    return(train_df, test_df)"
   ]
  },
  {
   "cell_type": "code",
   "execution_count": null,
   "id": "9f5f5e81",
   "metadata": {},
   "outputs": [],
   "source": [
    "def run_train_test(full_data, train_data, forecast_steps, factor, lag):\n",
    "    fc_df = pd.DataFrame()\n",
    "    model = run_df(train_data, factor, lag)\n",
    "    if not model:\n",
    "        return(None) # exit func if model does not converge\n",
    "\n",
    "    for i in range(-(len(full_data)-len(train_data)), 0, forecast_steps):\n",
    "        model = model.apply(endog=full_data.iloc[:i])\n",
    "        forecast = model.forecast(steps=forecast_steps)\n",
    "        fc_df = pd.concat([fc_df, forecast])\n",
    "\n",
    "    export = {'model':model, 'forecasts':fc_df}\n",
    "\n",
    "    for ic in ics:\n",
    "        export[ic] = getattr(model, ic)\n",
    "\n",
    "    return(export)"
   ]
  },
  {
   "cell_type": "markdown",
   "id": "adcfa47a",
   "metadata": {},
   "source": [
    "Load raw data"
   ]
  },
  {
   "cell_type": "code",
   "execution_count": null,
   "id": "b3a51237",
   "metadata": {},
   "outputs": [],
   "source": [
    "sources = pd.read_csv(files['sources'], encoding='utf-8')\n",
    "variables = Variables(sources)"
   ]
  },
  {
   "cell_type": "code",
   "execution_count": null,
   "id": "797637ee",
   "metadata": {
    "scrolled": true
   },
   "outputs": [],
   "source": [
    "with open(files['data']) as f:\n",
    "    ts_data = json.load(f)"
   ]
  },
  {
   "cell_type": "markdown",
   "id": "7498a7ac",
   "metadata": {},
   "source": [
    "Convert json data to pandas series to check for unit roots and to resample"
   ]
  },
  {
   "cell_type": "code",
   "execution_count": null,
   "id": "936cd6e3",
   "metadata": {
    "scrolled": true
   },
   "outputs": [],
   "source": [
    "ts_pd = {}\n",
    "for series in ts_data:\n",
    "\n",
    "    if variables.freq[series]=='Q':\n",
    "        periods = [p.split()[0]+p.split()[-1][::-1] for p in ts_data[series]]\n",
    "        periods = pd.PeriodIndex(periods, freq=variables.freq[series])\n",
    "        ts_pd[series] = pd.Series(ts_data[series].values(), index=periods)\n",
    "\n",
    "    elif variables.freq[series]=='M':\n",
    "        # warning: pd version 2.0.0 has deprecated kwarg infer_datetime_format\n",
    "        periods = pd.to_datetime(list(ts_data[series]),infer_datetime_format=True) + pd.tseries.offsets.MonthEnd(0)\n",
    "        periods = periods.date\n",
    "        ts_pd[series] = pd.Series(ts_data[series].values(), index=periods)\n",
    "\n",
    "    elif variables.freq[series]=='D':\n",
    "        periods = pd.to_datetime(list(ts_data[series])).date\n",
    "        periods = pd.PeriodIndex(periods, freq=variables.freq[series])\n",
    "        ts_pd[series] = pd.Series(ts_data[series].values(), index=periods).resample('M').last()\n",
    "        variables.freq[series] = 'M' # update to 'M' since resampled\n",
    "\n",
    "    # start all series from first valid index\n",
    "    ts_pd[series] = ts_pd[series].sort_index()\n",
    "    ts_pd[series] = ts_pd[series][ts_pd[series].first_valid_index():]"
   ]
  },
  {
   "cell_type": "code",
   "execution_count": null,
   "id": "f35ae2c6",
   "metadata": {
    "scrolled": true
   },
   "outputs": [],
   "source": [
    "# if p-value >0.05, variable is non-stationary\n",
    "for i in variables.indep:\n",
    "    print(i)\n",
    "    # if unit root, take % yoy growth (which also removes seasonality)\n",
    "    if adfuller(ts_pd[i])[1]>0.05:\n",
    "\n",
    "        if variables.freq[i]=='M' and 'sora' in i.lower():\n",
    "            ts_pd[i] = ts_pd[i].diff(periods=12)\n",
    "        elif variables.freq[i]=='M':\n",
    "            ts_pd[i] = ts_pd[i].pct_change(periods=12) * 100\n",
    "        elif variables.freq[i]=='Q':\n",
    "            ts_pd[i] = ts_pd[i].pct_change(periods=4) * 100\n",
    "\n",
    "        ts_pd[i] = ts_pd[i][ts_pd[i].first_valid_index():]\n",
    "        print('Non-stationary', end='\\n\\n')\n",
    "        variables.non_stat.append(i)\n",
    "\n",
    "    else:\n",
    "        print('Stationary', end='\\n\\n')"
   ]
  },
  {
   "cell_type": "code",
   "execution_count": null,
   "id": "9118ef6b",
   "metadata": {
    "scrolled": true
   },
   "outputs": [],
   "source": [
    "# resample all series to monthly and start from first valid index\n",
    "for series,freq in variables.freq.items():\n",
    "\n",
    "    if freq=='Q':\n",
    "        ts_pd[series] = ts_pd[series].resample('M', convention='end').asfreq()\n",
    "\n",
    "    try:\n",
    "        ts_pd[series].index = ts_pd[series].index.to_timestamp() + pd.offsets.MonthEnd(0)\n",
    "    except:\n",
    "        pass\n",
    "\n",
    "    ts_pd[series].index = ts_pd[series].index + pd.offsets.MonthEnd(0)"
   ]
  },
  {
   "cell_type": "markdown",
   "id": "4304f81b",
   "metadata": {},
   "source": [
    "Convert pd series dictionary to dataframe\n",
    "\n",
    "Column order adhered to as defined by statsmodels docs for dynamic factor modelling\n",
    "<br>https://www.statsmodels.org/dev/generated/statsmodels.tsa.statespace.dynamic_factor_mq.DynamicFactorMQ.html\n",
    "- dependent variable leftmost\n",
    "- monthly data in the first columns\n",
    "- quarterly data in the last columns"
   ]
  },
  {
   "cell_type": "code",
   "execution_count": null,
   "id": "4ef8cf50",
   "metadata": {
    "scrolled": true
   },
   "outputs": [],
   "source": [
    "# pass all series into dataframe, start dataframe from first year of GDP growth data\n",
    "ts_df = pd.DataFrame(ts_pd)\n",
    "ts_df = ts_df.loc[ts_df.index.year>=ts_df.loc[:,variables.dep].first_valid_index().year]\n",
    "\n",
    "# rearrange columns in correct order for factor modelling as explained in markdown above\n",
    "ts_df = ts_df[[variables.dep]+\\\n",
    "              [k for k,v in variables.freq.items() if v=='M' and k!=variables.dep]+\\\n",
    "              [k for k,v in variables.freq.items() if v=='Q' and k!=variables.dep]]\n",
    "\n",
    "ts_df.index.name = 'Period'\n",
    "ts_df"
   ]
  },
  {
   "cell_type": "markdown",
   "id": "b5443cb2",
   "metadata": {},
   "source": [
    "Explore data"
   ]
  },
  {
   "cell_type": "code",
   "execution_count": null,
   "id": "a566a7f0",
   "metadata": {
    "scrolled": true
   },
   "outputs": [],
   "source": [
    "ts_df.describe().round(3)"
   ]
  },
  {
   "cell_type": "code",
   "execution_count": null,
   "id": "b35f9743",
   "metadata": {
    "scrolled": true
   },
   "outputs": [],
   "source": [
    "#with plt.rc_context(rc={'figure.max_open_warning':0}):\n",
    "#    for i in list(ts_df):\n",
    "#        plt.figure(figsize=(6,4))\n",
    "#        plt.title('\\n'.join('\\n'.join(i.split(' | ')).split(' - ')), fontdict={'fontsize':10})\n",
    "#\n",
    "#        # fillna because quarterly data has blanks when freq=monthly\n",
    "#        plt_data = ts_df[[i]].loc[ts_df[[i]].first_valid_index():ts_df[[i]].last_valid_index()].fillna(method='bfill',limit=2)\n",
    "#\n",
    "#        plt.plot(plt_data)\n",
    "#        plt.tight_layout()"
   ]
  },
  {
   "cell_type": "markdown",
   "id": "23458ad9",
   "metadata": {},
   "source": [
    "Instantiate and fit DF model"
   ]
  },
  {
   "cell_type": "code",
   "execution_count": null,
   "id": "85c8b1e3",
   "metadata": {},
   "outputs": [],
   "source": [
    "# to catch warnings for models that do not converge\n",
    "warnings.filterwarnings('error', category=UserWarning)"
   ]
  },
  {
   "cell_type": "code",
   "execution_count": null,
   "id": "3b50a694",
   "metadata": {},
   "outputs": [],
   "source": [
    "ics = ['aic','bic','hqic']"
   ]
  },
  {
   "cell_type": "code",
   "execution_count": null,
   "id": "ff7b38f6",
   "metadata": {
    "scrolled": true
   },
   "outputs": [],
   "source": [
    "models = {}\n",
    "for factor in range(1, max_factors+1):\n",
    "    for lag in range(1, max_lags+1):\n",
    "        print(f'({factor}, {lag})', end=' ')\n",
    "        models[(factor,lag)] = {'model':run_df(ts_df, factor, lag)}\n",
    "\n",
    "        # if model converges, extract info criterions. if not, remove model from dict.\n",
    "        if models[(factor,lag)]['model']:\n",
    "            for ic in ics:\n",
    "                models[(factor,lag)][ic] = getattr(models[(factor, lag)]['model'], ic)\n",
    "        else:\n",
    "            models.pop((factor,lag))\n",
    "        print('done')"
   ]
  },
  {
   "cell_type": "code",
   "execution_count": null,
   "id": "5ed5c904",
   "metadata": {
    "scrolled": true
   },
   "outputs": [],
   "source": [
    "models.keys()"
   ]
  },
  {
   "cell_type": "markdown",
   "id": "c85e9ada",
   "metadata": {},
   "source": [
    "For each information criterion-model pair, run predictions. Then choose model that has lowest RMSE."
   ]
  },
  {
   "cell_type": "code",
   "execution_count": null,
   "id": "0299a0c6",
   "metadata": {},
   "outputs": [],
   "source": [
    "models_min_ic = find_min_ic(models)"
   ]
  },
  {
   "cell_type": "code",
   "execution_count": null,
   "id": "691f170e",
   "metadata": {
    "scrolled": true
   },
   "outputs": [],
   "source": [
    "best_model = (None, np.inf)\n",
    "for i in ics:\n",
    "    use_model = models[models_min_ic[i][0]]\n",
    "    compare_df = compare(ts_df, use_model['model'].predict())\n",
    "    mean_sq_err = mse(compare_df['Actual'], compare_df['Predicted'])\n",
    "\n",
    "    if mean_sq_err<best_model[1]:\n",
    "        best_model = (models_min_ic[i][0], mean_sq_err)\n",
    "\n",
    "    print(f\"[{i}] In-sample MSE of GDP forecast: {round(mean_sq_err,3)}\")\n",
    "\n",
    "    plt.figure(figsize=(6,4))\n",
    "    plt.title(label=f\"{variables.dep}\\nDynamic Factor Model\\n\\\n",
    "                    (Factors: {models_min_ic[i][0][0]}, Order: {models_min_ic[i][0][1]})\")\n",
    "\n",
    "    plt.plot(compare_df.iloc[-(4*10):])\n",
    "    plt.tight_layout()\n",
    "    plt.show()"
   ]
  },
  {
   "cell_type": "code",
   "execution_count": null,
   "id": "d2417296",
   "metadata": {},
   "outputs": [],
   "source": [
    "best_model"
   ]
  },
  {
   "cell_type": "markdown",
   "id": "ea518034",
   "metadata": {},
   "source": [
    "Pseudo out-of-sample forecasts, i.e., train on x% of dataset, test on (1-x)%"
   ]
  },
  {
   "cell_type": "code",
   "execution_count": null,
   "id": "0b693fa5",
   "metadata": {},
   "outputs": [],
   "source": [
    "train_ts, test_ts = split_train_test(ts_df, train_ratio)"
   ]
  },
  {
   "cell_type": "code",
   "execution_count": null,
   "id": "8d95015d",
   "metadata": {
    "scrolled": true
   },
   "outputs": [],
   "source": [
    "oos_models = {}\n",
    "with np.errstate(divide='ignore'):\n",
    "    for factor in range(1, max_factors+1):\n",
    "        for lag in range(1, max_lags+1):\n",
    "            print(f'({factor}, {lag})', end=' ')\n",
    "            oos_models[(factor,lag)] = run_train_test(ts_df, train_ts, forecast_steps, factor, lag)\n",
    "\n",
    "            # if model does not converge, remove from dict\n",
    "            if not oos_models[(factor,lag)]:\n",
    "                oos_models.pop((factor,lag))\n",
    "            print('done')"
   ]
  },
  {
   "cell_type": "code",
   "execution_count": null,
   "id": "45ee8b8e",
   "metadata": {},
   "outputs": [],
   "source": [
    "oos_models.keys()"
   ]
  },
  {
   "cell_type": "code",
   "execution_count": null,
   "id": "8b9edbd4",
   "metadata": {},
   "outputs": [],
   "source": [
    "oos_models_min_ic = find_min_ic(oos_models)\n",
    "oos_models_min_ic"
   ]
  },
  {
   "cell_type": "code",
   "execution_count": null,
   "id": "fd378991",
   "metadata": {
    "scrolled": true
   },
   "outputs": [],
   "source": [
    "best_oos_model = (None, np.inf)\n",
    "for i in ics:\n",
    "    use_oos_model = oos_models[oos_models_min_ic[i][0]]\n",
    "    compare_df = compare(ts_df, use_oos_model['model'].predict())\n",
    "    mean_sq_err = mse(compare_df['Actual'], compare_df['Predicted'])\n",
    "\n",
    "    if mean_sq_err<best_oos_model[1]:\n",
    "        best_oos_model = (oos_models_min_ic[i][0], mean_sq_err)\n",
    "\n",
    "    print(f\"[{i}] Out-sample MSE of GDP forecast: {round(mean_sq_err,3)}\")\n",
    "\n",
    "    plt.figure(figsize=(6,4))\n",
    "    plt.title(label=f\"{variables.dep}\\nDynamic Factor Model\\n\\\n",
    "                    (Factors: {oos_models_min_ic[i][0][0]}, Order: {oos_models_min_ic[i][0][1]})\")\n",
    "\n",
    "    plt.plot(compare_df.iloc[-(4*10):])\n",
    "    plt.tight_layout()\n",
    "    plt.show()"
   ]
  },
  {
   "cell_type": "code",
   "execution_count": null,
   "id": "994d2e05",
   "metadata": {},
   "outputs": [],
   "source": [
    "best_oos_model"
   ]
  },
  {
   "cell_type": "markdown",
   "id": "e7de98ed",
   "metadata": {},
   "source": [
    "Run an AR model as a baseline"
   ]
  },
  {
   "cell_type": "code",
   "execution_count": null,
   "id": "104996b0",
   "metadata": {
    "scrolled": true
   },
   "outputs": [],
   "source": [
    "ar_df = ts_df[[variables.dep]].dropna()"
   ]
  },
  {
   "cell_type": "code",
   "execution_count": null,
   "id": "bd943da2",
   "metadata": {
    "scrolled": true
   },
   "outputs": [],
   "source": [
    "if adfuller(ar_df[variables.dep])[1]>0.05:\n",
    "    print(f'[Non-stationary] {variables.dep}')\n",
    "else:\n",
    "    print(f'[Stationary] {variables.dep}')"
   ]
  },
  {
   "cell_type": "code",
   "execution_count": null,
   "id": "d1a2c737",
   "metadata": {},
   "outputs": [],
   "source": [
    "ar_models = {(p,0,0):None for p in range(1,max_ar)}"
   ]
  },
  {
   "cell_type": "code",
   "execution_count": null,
   "id": "91f3f051",
   "metadata": {
    "scrolled": true
   },
   "outputs": [],
   "source": [
    "for i in ar_models:\n",
    "    print(f'{i}', end=' ')\n",
    "    ar_models[i] = {'model':ARIMA(ar_df, order=i).fit()}\n",
    "    for ic in ics:\n",
    "        ar_models[i][ic] = getattr(ar_models[i]['model'], ic)\n",
    "    print('done')"
   ]
  },
  {
   "cell_type": "code",
   "execution_count": null,
   "id": "42d58494",
   "metadata": {},
   "outputs": [],
   "source": [
    "ar_models_min_ic = find_min_ic(ar_models)\n",
    "ar_models_min_ic"
   ]
  },
  {
   "cell_type": "code",
   "execution_count": null,
   "id": "9cfb223d",
   "metadata": {
    "scrolled": true
   },
   "outputs": [],
   "source": [
    "best_ar_model = (None, np.inf)\n",
    "for i in ar_models_min_ic:\n",
    "    use_ar_model = ar_models[ar_models_min_ic[i][0]]\n",
    "\n",
    "    pred_ar = pd.DataFrame(use_ar_model['model'].predict())\n",
    "    pred_ar.columns = [variables.dep]\n",
    "\n",
    "    compare_df = compare(ts_df, pred_ar)\n",
    "\n",
    "    mean_sq_err = mse(compare_df['Actual'], compare_df['Predicted'])\n",
    "\n",
    "    if mean_sq_err<best_ar_model[1]:\n",
    "        best_ar_model = (ar_models_min_ic[i][0], mean_sq_err)\n",
    "\n",
    "    print(f\"[{i}] In-sample MSE of GDP forecast: {round(mean_sq_err,3)}\")\n",
    "\n",
    "    plt.figure(figsize=(6,4))\n",
    "    plt.title(label=f\"{variables.dep}\\nARIMA\\n\\\n",
    "                    p/lags: {ar_models_min_ic[i][0][0]}, d/diff: {ar_models_min_ic[i][0][1]}, q/moving-avg: {ar_models_min_ic[i][0][2]}\")\n",
    "\n",
    "    plt.plot(compare_df.iloc[-(4*10):])\n",
    "    plt.tight_layout()\n",
    "    plt.show()"
   ]
  },
  {
   "cell_type": "code",
   "execution_count": null,
   "id": "5f7d7fdf",
   "metadata": {},
   "outputs": [],
   "source": [
    "best_ar_model"
   ]
  },
  {
   "cell_type": "markdown",
   "id": "142c501b",
   "metadata": {},
   "source": [
    "Export forecasts to csv"
   ]
  },
  {
   "cell_type": "code",
   "execution_count": null,
   "id": "3a86e619",
   "metadata": {},
   "outputs": [],
   "source": [
    "export_df = ts_df[[variables.dep]].dropna().copy()\n",
    "export_df.columns = ['Actual']\n",
    "\n",
    "dynam_pred = models[best_model[0]]['model'].predict()[[variables.dep]]\n",
    "dynam_pred.columns = [f\"Dynamic Factor {best_model[0]}\"]\n",
    "\n",
    "export_ar = pred_ar.copy()\n",
    "export_ar.columns = [f\"ARIMA {best_ar_model[0]}\"]\n",
    "\n",
    "export_df = export_df.merge(dynam_pred, left_index=True, right_index=True)\n",
    "export_df = export_df.merge(export_ar, left_index=True, right_index=True)\n",
    "export_df"
   ]
  },
  {
   "cell_type": "code",
   "execution_count": null,
   "id": "f3590bb4",
   "metadata": {},
   "outputs": [],
   "source": [
    "export_df.to_csv('Classical Statistics Model Predictions.csv', encoding='utf-8')"
   ]
  }
 ],
 "metadata": {
  "kernelspec": {
   "display_name": "Python 3 (ipykernel)",
   "language": "python",
   "name": "python3"
  },
  "language_info": {
   "codemirror_mode": {
    "name": "ipython",
    "version": 3
   },
   "file_extension": ".py",
   "mimetype": "text/x-python",
   "name": "python",
   "nbconvert_exporter": "python",
   "pygments_lexer": "ipython3",
   "version": "3.10.9"
  }
 },
 "nbformat": 4,
 "nbformat_minor": 5
}
